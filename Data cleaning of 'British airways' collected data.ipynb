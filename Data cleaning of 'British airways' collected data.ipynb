{
 "cells": [
  {
   "cell_type": "code",
   "execution_count": 2,
   "id": "9b3c2da3-ddde-4ccc-b63a-3cb6e886d8e6",
   "metadata": {},
   "outputs": [],
   "source": [
    "import pandas as pd\n",
    "import seaborn as sns\n",
    "import matplotlib.pyplot as plt \n",
    "import os\n",
    "\n",
    "#Regex \n",
    "import re         #can be used to work with Regular Expressions.    #check if a string contains the specified search pattern"
   ]
  },
  {
   "cell_type": "code",
   "execution_count": 6,
   "id": "0c65753c-5eff-40e9-9c6e-8d40018ec1c4",
   "metadata": {},
   "outputs": [],
   "source": [
    "cwd = os.getcwd()\n",
    "\n",
    "df=pd.read_csv(cwd+ \"/BA_reviews.csv\" , index_col=0)"
   ]
  },
  {
   "cell_type": "code",
   "execution_count": 7,
   "id": "3c4b9735-3567-494a-85d0-e42d13fd8992",
   "metadata": {},
   "outputs": [
    {
     "data": {
      "text/html": [
       "<div>\n",
       "<style scoped>\n",
       "    .dataframe tbody tr th:only-of-type {\n",
       "        vertical-align: middle;\n",
       "    }\n",
       "\n",
       "    .dataframe tbody tr th {\n",
       "        vertical-align: top;\n",
       "    }\n",
       "\n",
       "    .dataframe thead th {\n",
       "        text-align: right;\n",
       "    }\n",
       "</style>\n",
       "<table border=\"1\" class=\"dataframe\">\n",
       "  <thead>\n",
       "    <tr style=\"text-align: right;\">\n",
       "      <th></th>\n",
       "      <th>reviews</th>\n",
       "      <th>stars</th>\n",
       "      <th>date</th>\n",
       "      <th>country</th>\n",
       "    </tr>\n",
       "  </thead>\n",
       "  <tbody>\n",
       "    <tr>\n",
       "      <th>0</th>\n",
       "      <td>Not Verified |   Had to cancel my flight month...</td>\n",
       "      <td>5.0</td>\n",
       "      <td>1st July 2024</td>\n",
       "      <td>Canada</td>\n",
       "    </tr>\n",
       "    <tr>\n",
       "      <th>1</th>\n",
       "      <td>✅ Trip Verified | Flight cancelled with no rea...</td>\n",
       "      <td>1.0</td>\n",
       "      <td>30th June 2024</td>\n",
       "      <td>United Kingdom</td>\n",
       "    </tr>\n",
       "    <tr>\n",
       "      <th>2</th>\n",
       "      <td>✅ Trip Verified | This is a route I fly regula...</td>\n",
       "      <td>1.0</td>\n",
       "      <td>26th June 2024</td>\n",
       "      <td>United Kingdom</td>\n",
       "    </tr>\n",
       "    <tr>\n",
       "      <th>3</th>\n",
       "      <td>✅ Trip Verified |  While BA may have made some...</td>\n",
       "      <td>6.0</td>\n",
       "      <td>23rd June 2024</td>\n",
       "      <td>Canada</td>\n",
       "    </tr>\n",
       "    <tr>\n",
       "      <th>4</th>\n",
       "      <td>✅ Trip Verified | British Airways new Club Sui...</td>\n",
       "      <td>3.0</td>\n",
       "      <td>23rd June 2024</td>\n",
       "      <td>Canada</td>\n",
       "    </tr>\n",
       "  </tbody>\n",
       "</table>\n",
       "</div>"
      ],
      "text/plain": [
       "                                             reviews  stars            date  \\\n",
       "0  Not Verified |   Had to cancel my flight month...    5.0   1st July 2024   \n",
       "1  ✅ Trip Verified | Flight cancelled with no rea...    1.0  30th June 2024   \n",
       "2  ✅ Trip Verified | This is a route I fly regula...    1.0  26th June 2024   \n",
       "3  ✅ Trip Verified |  While BA may have made some...    6.0  23rd June 2024   \n",
       "4  ✅ Trip Verified | British Airways new Club Sui...    3.0  23rd June 2024   \n",
       "\n",
       "          country  \n",
       "0          Canada  \n",
       "1  United Kingdom  \n",
       "2  United Kingdom  \n",
       "3          Canada  \n",
       "4          Canada  "
      ]
     },
     "execution_count": 7,
     "metadata": {},
     "output_type": "execute_result"
    }
   ],
   "source": [
    "df.head(5)"
   ]
  },
  {
   "cell_type": "code",
   "execution_count": 13,
   "id": "60f15d47-1e81-4f57-bfc3-40e180a763f4",
   "metadata": {},
   "outputs": [
    {
     "data": {
      "text/plain": [
       "(0, 3, 0, 2)"
      ]
     },
     "execution_count": 13,
     "metadata": {},
     "output_type": "execute_result"
    }
   ],
   "source": [
    "#checking the null values\n",
    "df['reviews'].isnull().sum() , df['stars'].isnull().sum() , df['date'].isnull().sum() , df['country'].isnull().sum()"
   ]
  },
  {
   "cell_type": "markdown",
   "id": "7f315b93-582d-4739-b7d9-186ae3fdf0e6",
   "metadata": {},
   "source": [
    "We will create a column which mentions if the user is verified or not."
   ]
  },
  {
   "cell_type": "code",
   "execution_count": 16,
   "id": "a0ea7458-e187-4bce-97fd-626e671f196a",
   "metadata": {},
   "outputs": [
    {
     "data": {
      "text/html": [
       "<div>\n",
       "<style scoped>\n",
       "    .dataframe tbody tr th:only-of-type {\n",
       "        vertical-align: middle;\n",
       "    }\n",
       "\n",
       "    .dataframe tbody tr th {\n",
       "        vertical-align: top;\n",
       "    }\n",
       "\n",
       "    .dataframe thead th {\n",
       "        text-align: right;\n",
       "    }\n",
       "</style>\n",
       "<table border=\"1\" class=\"dataframe\">\n",
       "  <thead>\n",
       "    <tr style=\"text-align: right;\">\n",
       "      <th></th>\n",
       "      <th>reviews</th>\n",
       "      <th>stars</th>\n",
       "      <th>date</th>\n",
       "      <th>country</th>\n",
       "      <th>verified</th>\n",
       "    </tr>\n",
       "  </thead>\n",
       "  <tbody>\n",
       "    <tr>\n",
       "      <th>0</th>\n",
       "      <td>Not Verified |   Had to cancel my flight month...</td>\n",
       "      <td>5.0</td>\n",
       "      <td>1st July 2024</td>\n",
       "      <td>Canada</td>\n",
       "      <td>False</td>\n",
       "    </tr>\n",
       "    <tr>\n",
       "      <th>1</th>\n",
       "      <td>✅ Trip Verified | Flight cancelled with no rea...</td>\n",
       "      <td>1.0</td>\n",
       "      <td>30th June 2024</td>\n",
       "      <td>United Kingdom</td>\n",
       "      <td>True</td>\n",
       "    </tr>\n",
       "    <tr>\n",
       "      <th>2</th>\n",
       "      <td>✅ Trip Verified | This is a route I fly regula...</td>\n",
       "      <td>1.0</td>\n",
       "      <td>26th June 2024</td>\n",
       "      <td>United Kingdom</td>\n",
       "      <td>True</td>\n",
       "    </tr>\n",
       "    <tr>\n",
       "      <th>3</th>\n",
       "      <td>✅ Trip Verified |  While BA may have made some...</td>\n",
       "      <td>6.0</td>\n",
       "      <td>23rd June 2024</td>\n",
       "      <td>Canada</td>\n",
       "      <td>True</td>\n",
       "    </tr>\n",
       "    <tr>\n",
       "      <th>4</th>\n",
       "      <td>✅ Trip Verified | British Airways new Club Sui...</td>\n",
       "      <td>3.0</td>\n",
       "      <td>23rd June 2024</td>\n",
       "      <td>Canada</td>\n",
       "      <td>True</td>\n",
       "    </tr>\n",
       "  </tbody>\n",
       "</table>\n",
       "</div>"
      ],
      "text/plain": [
       "                                             reviews  stars            date  \\\n",
       "0  Not Verified |   Had to cancel my flight month...    5.0   1st July 2024   \n",
       "1  ✅ Trip Verified | Flight cancelled with no rea...    1.0  30th June 2024   \n",
       "2  ✅ Trip Verified | This is a route I fly regula...    1.0  26th June 2024   \n",
       "3  ✅ Trip Verified |  While BA may have made some...    6.0  23rd June 2024   \n",
       "4  ✅ Trip Verified | British Airways new Club Sui...    3.0  23rd June 2024   \n",
       "\n",
       "          country  verified  \n",
       "0          Canada     False  \n",
       "1  United Kingdom      True  \n",
       "2  United Kingdom      True  \n",
       "3          Canada      True  \n",
       "4          Canada      True  "
      ]
     },
     "execution_count": 16,
     "metadata": {},
     "output_type": "execute_result"
    }
   ],
   "source": [
    "df['verified']= df.reviews.str.contains(' Trip Verified ')\n",
    "df.head(5)"
   ]
  },
  {
   "cell_type": "code",
   "execution_count": null,
   "id": "f45ef061-87aa-4501-9087-672a4082b48e",
   "metadata": {},
   "outputs": [],
   "source": []
  },
  {
   "cell_type": "code",
   "execution_count": null,
   "id": "5df6080e-8f88-4b7c-b21e-fe8c00c2aba6",
   "metadata": {},
   "outputs": [],
   "source": []
  },
  {
   "cell_type": "markdown",
   "id": "ad92811b-1221-4d5d-a163-0beb983a1087",
   "metadata": {},
   "source": [
    "#### CLEANING REVIEWS"
   ]
  },
  {
   "cell_type": "markdown",
   "id": "31472e26-76dd-4da2-8d18-ef0dc5e7a9ec",
   "metadata": {},
   "source": [
    "We will extract the review column into a separate dataframe and clean it for semantic/text analysis"
   ]
  },
  {
   "cell_type": "code",
   "execution_count": 27,
   "id": "4904c58a-e5f0-438f-8f8d-d033f1a7471e",
   "metadata": {},
   "outputs": [
    {
     "name": "stderr",
     "output_type": "stream",
     "text": [
      "[nltk_data] Downloading package wordnet to\n",
      "[nltk_data]     C:\\Users\\Aditya\\AppData\\Roaming\\nltk_data...\n",
      "[nltk_data]   Package wordnet is already up-to-date!\n"
     ]
    },
    {
     "data": {
      "text/plain": [
       "True"
      ]
     },
     "execution_count": 27,
     "metadata": {},
     "output_type": "execute_result"
    }
   ],
   "source": [
    "import nltk\n",
    "nltk.download('wordnet')"
   ]
  },
  {
   "cell_type": "code",
   "execution_count": 28,
   "id": "07bb2206-c86c-4cad-bad2-2a74d4697a80",
   "metadata": {},
   "outputs": [
    {
     "name": "stderr",
     "output_type": "stream",
     "text": [
      "[nltk_data] Downloading package stopwords to\n",
      "[nltk_data]     C:\\Users\\Aditya\\AppData\\Roaming\\nltk_data...\n",
      "[nltk_data]   Package stopwords is already up-to-date!\n"
     ]
    },
    {
     "data": {
      "text/plain": [
       "True"
      ]
     },
     "execution_count": 28,
     "metadata": {},
     "output_type": "execute_result"
    }
   ],
   "source": [
    "import nltk\n",
    "nltk.download('stopwords')"
   ]
  },
  {
   "cell_type": "code",
   "execution_count": 54,
   "id": "e565a1a0-ce46-4037-993b-bcf300882917",
   "metadata": {},
   "outputs": [],
   "source": [
    "#for lemmatization of words we will use nltk library\n",
    "from nltk.stem import WordNetLemmatizer #It looks beyond word reduction and considers a language’s full vocabulary to apply a morphological analysis to words.\n",
    "from nltk.corpus import stopwords     #['stop', 'the', 'to', 'and', 'a', 'in', 'it', 'is', 'I', 'that', 'had', 'on', 'for', 'were', 'was'] words like this are removed, which just causes the extra storage.\n",
    "\n",
    "lemma = WordNetLemmatizer()\n",
    "\n",
    "#create an empty list to collect cleaned data corpus\n",
    "corpus =[]\n",
    "\n",
    "reviews_data= df.reviews.str.strip('✅ Trip Verified | ')         #removing trip verified\n",
    "\n",
    "#loop through each review, remove punctuations, small case it, join it and add it to corpus\n",
    "for rev in reviews_data:\n",
    "    rev= re.sub('^a-zA-Z' , ' ' , rev ) #[^a-zA-Z] means any character that IS NOT a-z OR A-Z\n",
    "                                        #re.sub() function replaces one or many matches with a string in the given text.\n",
    "    rev= rev.lower()\n",
    "    rev=rev.split()        #splited in seperate seperate words in \" \"\n",
    "    rev = [lemma.lemmatize(word) for word in rev if word not in set(stopwords.words(\"english\"))]\n",
    "    rev=\" \".join(rev)\n",
    "    corpus.append(rev)"
   ]
  },
  {
   "cell_type": "code",
   "execution_count": 31,
   "id": "0189cbb8-adef-49c2-aa9a-061fb4bd63a5",
   "metadata": {},
   "outputs": [
    {
     "data": {
      "text/html": [
       "<div>\n",
       "<style scoped>\n",
       "    .dataframe tbody tr th:only-of-type {\n",
       "        vertical-align: middle;\n",
       "    }\n",
       "\n",
       "    .dataframe tbody tr th {\n",
       "        vertical-align: top;\n",
       "    }\n",
       "\n",
       "    .dataframe thead th {\n",
       "        text-align: right;\n",
       "    }\n",
       "</style>\n",
       "<table border=\"1\" class=\"dataframe\">\n",
       "  <thead>\n",
       "    <tr style=\"text-align: right;\">\n",
       "      <th></th>\n",
       "      <th>reviews</th>\n",
       "      <th>stars</th>\n",
       "      <th>date</th>\n",
       "      <th>country</th>\n",
       "      <th>verified</th>\n",
       "      <th>corpus</th>\n",
       "    </tr>\n",
       "  </thead>\n",
       "  <tbody>\n",
       "    <tr>\n",
       "      <th>0</th>\n",
       "      <td>Not Verified |   Had to cancel my flight month...</td>\n",
       "      <td>5.0</td>\n",
       "      <td>1st July 2024</td>\n",
       "      <td>Canada</td>\n",
       "      <td>False</td>\n",
       "      <td>verified | cancel flight month advance due cha...</td>\n",
       "    </tr>\n",
       "    <tr>\n",
       "      <th>1</th>\n",
       "      <td>✅ Trip Verified | Flight cancelled with no rea...</td>\n",
       "      <td>1.0</td>\n",
       "      <td>30th June 2024</td>\n",
       "      <td>United Kingdom</td>\n",
       "      <td>True</td>\n",
       "      <td>flight cancelled reason given le 24 h departur...</td>\n",
       "    </tr>\n",
       "    <tr>\n",
       "      <th>2</th>\n",
       "      <td>✅ Trip Verified | This is a route I fly regula...</td>\n",
       "      <td>1.0</td>\n",
       "      <td>26th June 2024</td>\n",
       "      <td>United Kingdom</td>\n",
       "      <td>True</td>\n",
       "      <td>route fly regularly. used first class security...</td>\n",
       "    </tr>\n",
       "    <tr>\n",
       "      <th>3</th>\n",
       "      <td>✅ Trip Verified |  While BA may have made some...</td>\n",
       "      <td>6.0</td>\n",
       "      <td>23rd June 2024</td>\n",
       "      <td>Canada</td>\n",
       "      <td>True</td>\n",
       "      <td>ba may made positive improvement club world pr...</td>\n",
       "    </tr>\n",
       "    <tr>\n",
       "      <th>4</th>\n",
       "      <td>✅ Trip Verified | British Airways new Club Sui...</td>\n",
       "      <td>3.0</td>\n",
       "      <td>23rd June 2024</td>\n",
       "      <td>Canada</td>\n",
       "      <td>True</td>\n",
       "      <td>british airway new club suite marked improveme...</td>\n",
       "    </tr>\n",
       "    <tr>\n",
       "      <th>5</th>\n",
       "      <td>✅ Trip Verified |  Four very pleasant, on time...</td>\n",
       "      <td>5.0</td>\n",
       "      <td>18th June 2024</td>\n",
       "      <td>United Kingdom</td>\n",
       "      <td>True</td>\n",
       "      <td>four pleasant, time flight friendly, helpful s...</td>\n",
       "    </tr>\n",
       "  </tbody>\n",
       "</table>\n",
       "</div>"
      ],
      "text/plain": [
       "                                             reviews  stars            date  \\\n",
       "0  Not Verified |   Had to cancel my flight month...    5.0   1st July 2024   \n",
       "1  ✅ Trip Verified | Flight cancelled with no rea...    1.0  30th June 2024   \n",
       "2  ✅ Trip Verified | This is a route I fly regula...    1.0  26th June 2024   \n",
       "3  ✅ Trip Verified |  While BA may have made some...    6.0  23rd June 2024   \n",
       "4  ✅ Trip Verified | British Airways new Club Sui...    3.0  23rd June 2024   \n",
       "5  ✅ Trip Verified |  Four very pleasant, on time...    5.0  18th June 2024   \n",
       "\n",
       "          country  verified                                             corpus  \n",
       "0          Canada     False  verified | cancel flight month advance due cha...  \n",
       "1  United Kingdom      True  flight cancelled reason given le 24 h departur...  \n",
       "2  United Kingdom      True  route fly regularly. used first class security...  \n",
       "3          Canada      True  ba may made positive improvement club world pr...  \n",
       "4          Canada      True  british airway new club suite marked improveme...  \n",
       "5  United Kingdom      True  four pleasant, time flight friendly, helpful s...  "
      ]
     },
     "execution_count": 31,
     "metadata": {},
     "output_type": "execute_result"
    }
   ],
   "source": [
    "df['corpus']=corpus\n",
    "df.head(6)"
   ]
  },
  {
   "cell_type": "code",
   "execution_count": null,
   "id": "ac9a0826-4d31-4402-9c23-e645c232db1f",
   "metadata": {},
   "outputs": [],
   "source": []
  },
  {
   "cell_type": "code",
   "execution_count": null,
   "id": "0cf6e6c9-10d9-4320-919d-253950223133",
   "metadata": {},
   "outputs": [],
   "source": []
  },
  {
   "cell_type": "code",
   "execution_count": null,
   "id": "7ddcdadd-3ccb-483e-b45d-07df21924520",
   "metadata": {},
   "outputs": [],
   "source": []
  },
  {
   "cell_type": "markdown",
   "id": "4332bb4b-da7d-4d71-868d-e1e0063471eb",
   "metadata": {},
   "source": [
    "Cleaning\\ changing the datatype so to avoid the decimal value in stars"
   ]
  },
  {
   "cell_type": "code",
   "execution_count": 33,
   "id": "0b98fca6-872b-4a1d-8272-e17bc0714dea",
   "metadata": {},
   "outputs": [
    {
     "data": {
      "text/plain": [
       "reviews      object\n",
       "stars       float64\n",
       "date         object\n",
       "country      object\n",
       "verified       bool\n",
       "corpus       object\n",
       "dtype: object"
      ]
     },
     "execution_count": 33,
     "metadata": {},
     "output_type": "execute_result"
    }
   ],
   "source": [
    "df.dtypes"
   ]
  },
  {
   "cell_type": "code",
   "execution_count": 38,
   "id": "8937dc5c-6a5a-4bef-b561-39e78c409ab8",
   "metadata": {},
   "outputs": [
    {
     "data": {
      "text/plain": [
       "1.0"
      ]
     },
     "execution_count": 38,
     "metadata": {},
     "output_type": "execute_result"
    }
   ],
   "source": [
    "df['stars'].mode()[0]"
   ]
  },
  {
   "cell_type": "code",
   "execution_count": 36,
   "id": "ee83db14-6e6c-4db7-8dac-23f1371540c9",
   "metadata": {},
   "outputs": [],
   "source": [
    "df['stars'].fillna(df['stars'].mode()[0], inplace=True)      #filled the null values with mode"
   ]
  },
  {
   "cell_type": "code",
   "execution_count": 46,
   "id": "b1356212-be31-4f53-ad6d-70cccfe7ea2f",
   "metadata": {},
   "outputs": [
    {
     "data": {
      "text/plain": [
       "0"
      ]
     },
     "execution_count": 46,
     "metadata": {},
     "output_type": "execute_result"
    }
   ],
   "source": [
    "df['stars'].isnull().sum() "
   ]
  },
  {
   "cell_type": "code",
   "execution_count": 53,
   "id": "16a9d8d6-e229-4751-94c4-634dbe4a07e4",
   "metadata": {},
   "outputs": [
    {
     "data": {
      "text/plain": [
       "array([ 5,  1,  6,  3,  9,  2,  8,  7,  4, 10], dtype=int64)"
      ]
     },
     "execution_count": 53,
     "metadata": {},
     "output_type": "execute_result"
    }
   ],
   "source": [
    "df['stars'].unique()"
   ]
  },
  {
   "cell_type": "code",
   "execution_count": 44,
   "id": "8b13da28-7b3c-4538-a5dd-cf785df8c492",
   "metadata": {},
   "outputs": [],
   "source": [
    "df['stars']= df['stars'].astype('int64' )    #changed the datatype"
   ]
  },
  {
   "cell_type": "code",
   "execution_count": 45,
   "id": "155286ed-e143-466f-8c83-37e8735c94e9",
   "metadata": {},
   "outputs": [
    {
     "data": {
      "text/html": [
       "<div>\n",
       "<style scoped>\n",
       "    .dataframe tbody tr th:only-of-type {\n",
       "        vertical-align: middle;\n",
       "    }\n",
       "\n",
       "    .dataframe tbody tr th {\n",
       "        vertical-align: top;\n",
       "    }\n",
       "\n",
       "    .dataframe thead th {\n",
       "        text-align: right;\n",
       "    }\n",
       "</style>\n",
       "<table border=\"1\" class=\"dataframe\">\n",
       "  <thead>\n",
       "    <tr style=\"text-align: right;\">\n",
       "      <th></th>\n",
       "      <th>reviews</th>\n",
       "      <th>stars</th>\n",
       "      <th>date</th>\n",
       "      <th>country</th>\n",
       "      <th>verified</th>\n",
       "      <th>corpus</th>\n",
       "    </tr>\n",
       "  </thead>\n",
       "  <tbody>\n",
       "    <tr>\n",
       "      <th>0</th>\n",
       "      <td>Not Verified |   Had to cancel my flight month...</td>\n",
       "      <td>5</td>\n",
       "      <td>1st July 2024</td>\n",
       "      <td>Canada</td>\n",
       "      <td>False</td>\n",
       "      <td>verified | cancel flight month advance due cha...</td>\n",
       "    </tr>\n",
       "    <tr>\n",
       "      <th>1</th>\n",
       "      <td>✅ Trip Verified | Flight cancelled with no rea...</td>\n",
       "      <td>1</td>\n",
       "      <td>30th June 2024</td>\n",
       "      <td>United Kingdom</td>\n",
       "      <td>True</td>\n",
       "      <td>flight cancelled reason given le 24 h departur...</td>\n",
       "    </tr>\n",
       "    <tr>\n",
       "      <th>2</th>\n",
       "      <td>✅ Trip Verified | This is a route I fly regula...</td>\n",
       "      <td>1</td>\n",
       "      <td>26th June 2024</td>\n",
       "      <td>United Kingdom</td>\n",
       "      <td>True</td>\n",
       "      <td>route fly regularly. used first class security...</td>\n",
       "    </tr>\n",
       "    <tr>\n",
       "      <th>3</th>\n",
       "      <td>✅ Trip Verified |  While BA may have made some...</td>\n",
       "      <td>6</td>\n",
       "      <td>23rd June 2024</td>\n",
       "      <td>Canada</td>\n",
       "      <td>True</td>\n",
       "      <td>ba may made positive improvement club world pr...</td>\n",
       "    </tr>\n",
       "    <tr>\n",
       "      <th>4</th>\n",
       "      <td>✅ Trip Verified | British Airways new Club Sui...</td>\n",
       "      <td>3</td>\n",
       "      <td>23rd June 2024</td>\n",
       "      <td>Canada</td>\n",
       "      <td>True</td>\n",
       "      <td>british airway new club suite marked improveme...</td>\n",
       "    </tr>\n",
       "  </tbody>\n",
       "</table>\n",
       "</div>"
      ],
      "text/plain": [
       "                                             reviews  stars            date  \\\n",
       "0  Not Verified |   Had to cancel my flight month...      5   1st July 2024   \n",
       "1  ✅ Trip Verified | Flight cancelled with no rea...      1  30th June 2024   \n",
       "2  ✅ Trip Verified | This is a route I fly regula...      1  26th June 2024   \n",
       "3  ✅ Trip Verified |  While BA may have made some...      6  23rd June 2024   \n",
       "4  ✅ Trip Verified | British Airways new Club Sui...      3  23rd June 2024   \n",
       "\n",
       "          country  verified                                             corpus  \n",
       "0          Canada     False  verified | cancel flight month advance due cha...  \n",
       "1  United Kingdom      True  flight cancelled reason given le 24 h departur...  \n",
       "2  United Kingdom      True  route fly regularly. used first class security...  \n",
       "3          Canada      True  ba may made positive improvement club world pr...  \n",
       "4          Canada      True  british airway new club suite marked improveme...  "
      ]
     },
     "execution_count": 45,
     "metadata": {},
     "output_type": "execute_result"
    }
   ],
   "source": [
    "df.head(5)"
   ]
  },
  {
   "cell_type": "code",
   "execution_count": null,
   "id": "f620b031-54c7-40f5-b838-d192c74cd3c3",
   "metadata": {},
   "outputs": [],
   "source": []
  },
  {
   "cell_type": "code",
   "execution_count": null,
   "id": "abac9c99-5499-473a-992b-a580a742a94f",
   "metadata": {},
   "outputs": [],
   "source": []
  },
  {
   "cell_type": "code",
   "execution_count": null,
   "id": "2c69d6c6-8514-4cdf-b10b-5ea2eef0a4a1",
   "metadata": {},
   "outputs": [],
   "source": []
  },
  {
   "cell_type": "markdown",
   "id": "1b15b868-7de5-46bc-851e-fa070059e67f",
   "metadata": {},
   "source": [
    "Cleaning/Fromat date "
   ]
  },
  {
   "cell_type": "code",
   "execution_count": 51,
   "id": "9f7cca8a-d55b-4da9-b9db-1f5c98180c60",
   "metadata": {},
   "outputs": [
    {
     "data": {
      "text/html": [
       "<div>\n",
       "<style scoped>\n",
       "    .dataframe tbody tr th:only-of-type {\n",
       "        vertical-align: middle;\n",
       "    }\n",
       "\n",
       "    .dataframe tbody tr th {\n",
       "        vertical-align: top;\n",
       "    }\n",
       "\n",
       "    .dataframe thead th {\n",
       "        text-align: right;\n",
       "    }\n",
       "</style>\n",
       "<table border=\"1\" class=\"dataframe\">\n",
       "  <thead>\n",
       "    <tr style=\"text-align: right;\">\n",
       "      <th></th>\n",
       "      <th>reviews</th>\n",
       "      <th>stars</th>\n",
       "      <th>date</th>\n",
       "      <th>country</th>\n",
       "      <th>verified</th>\n",
       "      <th>corpus</th>\n",
       "    </tr>\n",
       "  </thead>\n",
       "  <tbody>\n",
       "    <tr>\n",
       "      <th>0</th>\n",
       "      <td>Not Verified |   Had to cancel my flight month...</td>\n",
       "      <td>5</td>\n",
       "      <td>2024-07-01</td>\n",
       "      <td>Canada</td>\n",
       "      <td>False</td>\n",
       "      <td>verified | cancel flight month advance due cha...</td>\n",
       "    </tr>\n",
       "    <tr>\n",
       "      <th>1</th>\n",
       "      <td>✅ Trip Verified | Flight cancelled with no rea...</td>\n",
       "      <td>1</td>\n",
       "      <td>2024-06-30</td>\n",
       "      <td>United Kingdom</td>\n",
       "      <td>True</td>\n",
       "      <td>flight cancelled reason given le 24 h departur...</td>\n",
       "    </tr>\n",
       "    <tr>\n",
       "      <th>2</th>\n",
       "      <td>✅ Trip Verified | This is a route I fly regula...</td>\n",
       "      <td>1</td>\n",
       "      <td>2024-06-26</td>\n",
       "      <td>United Kingdom</td>\n",
       "      <td>True</td>\n",
       "      <td>route fly regularly. used first class security...</td>\n",
       "    </tr>\n",
       "    <tr>\n",
       "      <th>3</th>\n",
       "      <td>✅ Trip Verified |  While BA may have made some...</td>\n",
       "      <td>6</td>\n",
       "      <td>2024-06-23</td>\n",
       "      <td>Canada</td>\n",
       "      <td>True</td>\n",
       "      <td>ba may made positive improvement club world pr...</td>\n",
       "    </tr>\n",
       "    <tr>\n",
       "      <th>4</th>\n",
       "      <td>✅ Trip Verified | British Airways new Club Sui...</td>\n",
       "      <td>3</td>\n",
       "      <td>2024-06-23</td>\n",
       "      <td>Canada</td>\n",
       "      <td>True</td>\n",
       "      <td>british airway new club suite marked improveme...</td>\n",
       "    </tr>\n",
       "  </tbody>\n",
       "</table>\n",
       "</div>"
      ],
      "text/plain": [
       "                                             reviews  stars       date  \\\n",
       "0  Not Verified |   Had to cancel my flight month...      5 2024-07-01   \n",
       "1  ✅ Trip Verified | Flight cancelled with no rea...      1 2024-06-30   \n",
       "2  ✅ Trip Verified | This is a route I fly regula...      1 2024-06-26   \n",
       "3  ✅ Trip Verified |  While BA may have made some...      6 2024-06-23   \n",
       "4  ✅ Trip Verified | British Airways new Club Sui...      3 2024-06-23   \n",
       "\n",
       "          country  verified                                             corpus  \n",
       "0          Canada     False  verified | cancel flight month advance due cha...  \n",
       "1  United Kingdom      True  flight cancelled reason given le 24 h departur...  \n",
       "2  United Kingdom      True  route fly regularly. used first class security...  \n",
       "3          Canada      True  ba may made positive improvement club world pr...  \n",
       "4          Canada      True  british airway new club suite marked improveme...  "
      ]
     },
     "execution_count": 51,
     "metadata": {},
     "output_type": "execute_result"
    }
   ],
   "source": [
    "df.date = pd.to_datetime(df.date,format='mixed')\n",
    "df.head()"
   ]
  },
  {
   "cell_type": "code",
   "execution_count": null,
   "id": "f29eaff8-9c11-49e8-8208-da19c3035c0a",
   "metadata": {},
   "outputs": [],
   "source": []
  },
  {
   "cell_type": "code",
   "execution_count": null,
   "id": "15c5b21c-ff9f-4faf-a5da-2715cce0fb3a",
   "metadata": {},
   "outputs": [],
   "source": []
  },
  {
   "cell_type": "code",
   "execution_count": null,
   "id": "3fb730a6-85d7-4568-a53e-6074789698a1",
   "metadata": {},
   "outputs": [],
   "source": []
  },
  {
   "cell_type": "markdown",
   "id": "e51c3242-104f-46fa-8220-5fa9cb150e64",
   "metadata": {},
   "source": [
    "CLEANING/COUNTRY"
   ]
  },
  {
   "cell_type": "code",
   "execution_count": 55,
   "id": "a5748a31-a0c8-43be-8207-5a05f3338061",
   "metadata": {},
   "outputs": [
    {
     "data": {
      "text/plain": [
       "reviews     0\n",
       "stars       0\n",
       "date        0\n",
       "country     2\n",
       "verified    0\n",
       "corpus      0\n",
       "dtype: int64"
      ]
     },
     "execution_count": 55,
     "metadata": {},
     "output_type": "execute_result"
    }
   ],
   "source": [
    "df.isnull().sum()"
   ]
  },
  {
   "cell_type": "code",
   "execution_count": 56,
   "id": "765f6686-48e3-420b-bedb-3cb3a7efa3dc",
   "metadata": {},
   "outputs": [],
   "source": [
    "#we can drop those two null values , means we can drop those two rows!"
   ]
  },
  {
   "cell_type": "code",
   "execution_count": 57,
   "id": "dfb94ab1-6c65-489d-9d46-98ff5022a186",
   "metadata": {},
   "outputs": [],
   "source": [
    "df.drop(df[df.country.isnull() == True].index, axis=0, inplace=True)"
   ]
  },
  {
   "cell_type": "code",
   "execution_count": 58,
   "id": "5ab8daff-b455-46c9-8294-171b20a05214",
   "metadata": {},
   "outputs": [
    {
     "data": {
      "text/plain": [
       "reviews     0\n",
       "stars       0\n",
       "date        0\n",
       "country     0\n",
       "verified    0\n",
       "corpus      0\n",
       "dtype: int64"
      ]
     },
     "execution_count": 58,
     "metadata": {},
     "output_type": "execute_result"
    }
   ],
   "source": [
    "df.isnull().sum()"
   ]
  },
  {
   "cell_type": "code",
   "execution_count": 59,
   "id": "2e4f2e3a-cd02-4fc9-80ff-d284a83be049",
   "metadata": {},
   "outputs": [
    {
     "data": {
      "text/plain": [
       "(3498, 6)"
      ]
     },
     "execution_count": 59,
     "metadata": {},
     "output_type": "execute_result"
    }
   ],
   "source": [
    "df.shape"
   ]
  },
  {
   "cell_type": "code",
   "execution_count": 62,
   "id": "1407d30e-2eaf-4f8e-979f-00b6628d3cc6",
   "metadata": {},
   "outputs": [
    {
     "data": {
      "text/html": [
       "<div>\n",
       "<style scoped>\n",
       "    .dataframe tbody tr th:only-of-type {\n",
       "        vertical-align: middle;\n",
       "    }\n",
       "\n",
       "    .dataframe tbody tr th {\n",
       "        vertical-align: top;\n",
       "    }\n",
       "\n",
       "    .dataframe thead th {\n",
       "        text-align: right;\n",
       "    }\n",
       "</style>\n",
       "<table border=\"1\" class=\"dataframe\">\n",
       "  <thead>\n",
       "    <tr style=\"text-align: right;\">\n",
       "      <th></th>\n",
       "      <th>reviews</th>\n",
       "      <th>stars</th>\n",
       "      <th>date</th>\n",
       "      <th>country</th>\n",
       "      <th>verified</th>\n",
       "      <th>corpus</th>\n",
       "    </tr>\n",
       "  </thead>\n",
       "  <tbody>\n",
       "    <tr>\n",
       "      <th>0</th>\n",
       "      <td>Not Verified |   Had to cancel my flight month...</td>\n",
       "      <td>5</td>\n",
       "      <td>2024-07-01</td>\n",
       "      <td>Canada</td>\n",
       "      <td>False</td>\n",
       "      <td>verified | cancel flight month advance due cha...</td>\n",
       "    </tr>\n",
       "    <tr>\n",
       "      <th>1</th>\n",
       "      <td>✅ Trip Verified | Flight cancelled with no rea...</td>\n",
       "      <td>1</td>\n",
       "      <td>2024-06-30</td>\n",
       "      <td>United Kingdom</td>\n",
       "      <td>True</td>\n",
       "      <td>flight cancelled reason given le 24 h departur...</td>\n",
       "    </tr>\n",
       "    <tr>\n",
       "      <th>2</th>\n",
       "      <td>✅ Trip Verified | This is a route I fly regula...</td>\n",
       "      <td>1</td>\n",
       "      <td>2024-06-26</td>\n",
       "      <td>United Kingdom</td>\n",
       "      <td>True</td>\n",
       "      <td>route fly regularly. used first class security...</td>\n",
       "    </tr>\n",
       "    <tr>\n",
       "      <th>3</th>\n",
       "      <td>✅ Trip Verified |  While BA may have made some...</td>\n",
       "      <td>6</td>\n",
       "      <td>2024-06-23</td>\n",
       "      <td>Canada</td>\n",
       "      <td>True</td>\n",
       "      <td>ba may made positive improvement club world pr...</td>\n",
       "    </tr>\n",
       "    <tr>\n",
       "      <th>4</th>\n",
       "      <td>✅ Trip Verified | British Airways new Club Sui...</td>\n",
       "      <td>3</td>\n",
       "      <td>2024-06-23</td>\n",
       "      <td>Canada</td>\n",
       "      <td>True</td>\n",
       "      <td>british airway new club suite marked improveme...</td>\n",
       "    </tr>\n",
       "    <tr>\n",
       "      <th>...</th>\n",
       "      <td>...</td>\n",
       "      <td>...</td>\n",
       "      <td>...</td>\n",
       "      <td>...</td>\n",
       "      <td>...</td>\n",
       "      <td>...</td>\n",
       "    </tr>\n",
       "    <tr>\n",
       "      <th>3493</th>\n",
       "      <td>We flew BA from London to Dulles DC 10/8/2014....</td>\n",
       "      <td>1</td>\n",
       "      <td>2014-10-12</td>\n",
       "      <td>United States</td>\n",
       "      <td>False</td>\n",
       "      <td>flew ba london dulles dc 10/8/2014. unfortunat...</td>\n",
       "    </tr>\n",
       "    <tr>\n",
       "      <th>3494</th>\n",
       "      <td>B787. Just returned from a London - Toronto - ...</td>\n",
       "      <td>9</td>\n",
       "      <td>2014-10-12</td>\n",
       "      <td>United Kingdom</td>\n",
       "      <td>False</td>\n",
       "      <td>b787. returned london - toronto - london fligh...</td>\n",
       "    </tr>\n",
       "    <tr>\n",
       "      <th>3495</th>\n",
       "      <td>I travelled to Hong Kong with British Airways ...</td>\n",
       "      <td>1</td>\n",
       "      <td>2014-10-12</td>\n",
       "      <td>United Kingdom</td>\n",
       "      <td>False</td>\n",
       "      <td>travelled hong kong british airway heathrow 77...</td>\n",
       "    </tr>\n",
       "    <tr>\n",
       "      <th>3496</th>\n",
       "      <td>LGW to SZG. Absolutely useless for a scheduled...</td>\n",
       "      <td>4</td>\n",
       "      <td>2014-10-08</td>\n",
       "      <td>United Kingdom</td>\n",
       "      <td>False</td>\n",
       "      <td>lgw szg. absolutely useless scheduled service ...</td>\n",
       "    </tr>\n",
       "    <tr>\n",
       "      <th>3497</th>\n",
       "      <td>BA92 4/10/14 YYZ-LHR B787 G-ZBJE. If you want ...</td>\n",
       "      <td>1</td>\n",
       "      <td>2014-10-08</td>\n",
       "      <td>United Kingdom</td>\n",
       "      <td>False</td>\n",
       "      <td>ba92 4/10/14 yyz-lhr b787 g-zbje. want know ry...</td>\n",
       "    </tr>\n",
       "  </tbody>\n",
       "</table>\n",
       "<p>3498 rows × 6 columns</p>\n",
       "</div>"
      ],
      "text/plain": [
       "                                                reviews  stars       date  \\\n",
       "0     Not Verified |   Had to cancel my flight month...      5 2024-07-01   \n",
       "1     ✅ Trip Verified | Flight cancelled with no rea...      1 2024-06-30   \n",
       "2     ✅ Trip Verified | This is a route I fly regula...      1 2024-06-26   \n",
       "3     ✅ Trip Verified |  While BA may have made some...      6 2024-06-23   \n",
       "4     ✅ Trip Verified | British Airways new Club Sui...      3 2024-06-23   \n",
       "...                                                 ...    ...        ...   \n",
       "3493  We flew BA from London to Dulles DC 10/8/2014....      1 2014-10-12   \n",
       "3494  B787. Just returned from a London - Toronto - ...      9 2014-10-12   \n",
       "3495  I travelled to Hong Kong with British Airways ...      1 2014-10-12   \n",
       "3496  LGW to SZG. Absolutely useless for a scheduled...      4 2014-10-08   \n",
       "3497  BA92 4/10/14 YYZ-LHR B787 G-ZBJE. If you want ...      1 2014-10-08   \n",
       "\n",
       "             country  verified  \\\n",
       "0             Canada     False   \n",
       "1     United Kingdom      True   \n",
       "2     United Kingdom      True   \n",
       "3             Canada      True   \n",
       "4             Canada      True   \n",
       "...              ...       ...   \n",
       "3493   United States     False   \n",
       "3494  United Kingdom     False   \n",
       "3495  United Kingdom     False   \n",
       "3496  United Kingdom     False   \n",
       "3497  United Kingdom     False   \n",
       "\n",
       "                                                 corpus  \n",
       "0     verified | cancel flight month advance due cha...  \n",
       "1     flight cancelled reason given le 24 h departur...  \n",
       "2     route fly regularly. used first class security...  \n",
       "3     ba may made positive improvement club world pr...  \n",
       "4     british airway new club suite marked improveme...  \n",
       "...                                                 ...  \n",
       "3493  flew ba london dulles dc 10/8/2014. unfortunat...  \n",
       "3494  b787. returned london - toronto - london fligh...  \n",
       "3495  travelled hong kong british airway heathrow 77...  \n",
       "3496  lgw szg. absolutely useless scheduled service ...  \n",
       "3497  ba92 4/10/14 yyz-lhr b787 g-zbje. want know ry...  \n",
       "\n",
       "[3498 rows x 6 columns]"
      ]
     },
     "execution_count": 62,
     "metadata": {},
     "output_type": "execute_result"
    }
   ],
   "source": [
    "df.reset_index(drop=True)"
   ]
  },
  {
   "cell_type": "code",
   "execution_count": null,
   "id": "23d5df00-bd16-4907-9079-7b98bc200fc5",
   "metadata": {},
   "outputs": [],
   "source": []
  },
  {
   "cell_type": "code",
   "execution_count": null,
   "id": "26c191aa-d655-4a9a-952c-e1cc90031053",
   "metadata": {},
   "outputs": [],
   "source": []
  },
  {
   "cell_type": "markdown",
   "id": "c9e73f00-ae94-4aa2-af9b-38b4c741eebd",
   "metadata": {},
   "source": [
    "Export the cleaned data"
   ]
  },
  {
   "cell_type": "code",
   "execution_count": 64,
   "id": "327e8abb-f7cb-48d2-82c7-eab41b93425f",
   "metadata": {},
   "outputs": [],
   "source": [
    "df.to_csv(cwd + '\\cleaned_reviews.csv')"
   ]
  },
  {
   "cell_type": "code",
   "execution_count": null,
   "id": "3e7b7c9e-7937-4f56-bf9c-38ec15dc516e",
   "metadata": {},
   "outputs": [],
   "source": []
  },
  {
   "cell_type": "code",
   "execution_count": null,
   "id": "a4cc8253-3f46-4fb0-bc55-d236d54e8772",
   "metadata": {},
   "outputs": [],
   "source": []
  }
 ],
 "metadata": {
  "kernelspec": {
   "display_name": "Python 3 (ipykernel)",
   "language": "python",
   "name": "python3"
  },
  "language_info": {
   "codemirror_mode": {
    "name": "ipython",
    "version": 3
   },
   "file_extension": ".py",
   "mimetype": "text/x-python",
   "name": "python",
   "nbconvert_exporter": "python",
   "pygments_lexer": "ipython3",
   "version": "3.11.7"
  }
 },
 "nbformat": 4,
 "nbformat_minor": 5
}
